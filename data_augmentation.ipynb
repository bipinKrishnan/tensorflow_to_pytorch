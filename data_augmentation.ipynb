{
  "nbformat": 4,
  "nbformat_minor": 0,
  "metadata": {
    "colab": {
      "name": "data_augmentation.ipynb",
      "provenance": [],
      "collapsed_sections": [],
      "authorship_tag": "ABX9TyPNRxb8h9SAprzL2W+HoDcU",
      "include_colab_link": true
    },
    "kernelspec": {
      "name": "python3",
      "display_name": "Python 3"
    },
    "accelerator": "GPU"
  },
  "cells": [
    {
      "cell_type": "markdown",
      "metadata": {
        "id": "view-in-github",
        "colab_type": "text"
      },
      "source": [
        "<a href=\"https://colab.research.google.com/github/bipinKrishnan/tensorflow_to_pytorch/blob/master/data_augmentation.ipynb\" target=\"_parent\"><img src=\"https://colab.research.google.com/assets/colab-badge.svg\" alt=\"Open In Colab\"/></a>"
      ]
    },
    {
      "cell_type": "code",
      "metadata": {
        "id": "5RU7-tYKHmfD",
        "colab_type": "code",
        "colab": {}
      },
      "source": [
        "import torch"
      ],
      "execution_count": null,
      "outputs": []
    },
    {
      "cell_type": "markdown",
      "metadata": {
        "id": "k9p4elkIHrHR",
        "colab_type": "text"
      },
      "source": [
        "## Load the data"
      ]
    },
    {
      "cell_type": "code",
      "metadata": {
        "id": "xX9qnykIHp7w",
        "colab_type": "code",
        "colab": {}
      },
      "source": [
        "import numpy as np\n",
        "import requests\n",
        "import io\n",
        "from PIL import Image"
      ],
      "execution_count": null,
      "outputs": []
    },
    {
      "cell_type": "code",
      "metadata": {
        "id": "c_sLBDGgHvF-",
        "colab_type": "code",
        "colab": {}
      },
      "source": [
        "response = requests.get('https://storage.googleapis.com/download.tensorflow.org/example_images/320px-Felis_catus-cat_on_snow.jpg')\n",
        "cat_img = Image.open(io.BytesIO(response.content))"
      ],
      "execution_count": null,
      "outputs": []
    },
    {
      "cell_type": "code",
      "metadata": {
        "id": "tN5NZMksIeMk",
        "colab_type": "code",
        "colab": {}
      },
      "source": [
        "cat_img"
      ],
      "execution_count": null,
      "outputs": []
    },
    {
      "cell_type": "code",
      "metadata": {
        "id": "SGDOs0Y6Ii5O",
        "colab_type": "code",
        "colab": {}
      },
      "source": [
        "cat_array = np.array(cat_img)"
      ],
      "execution_count": null,
      "outputs": []
    },
    {
      "cell_type": "markdown",
      "metadata": {
        "id": "hsPcaCtQJqKq",
        "colab_type": "text"
      },
      "source": [
        "## Augmentation and visualizing"
      ]
    },
    {
      "cell_type": "code",
      "metadata": {
        "id": "p-YMqrldK17s",
        "colab_type": "code",
        "colab": {}
      },
      "source": [
        "import matplotlib.pyplot as plt"
      ],
      "execution_count": null,
      "outputs": []
    },
    {
      "cell_type": "code",
      "metadata": {
        "id": "thwRMddOI-37",
        "colab_type": "code",
        "colab": {}
      },
      "source": [
        "def visualize(original, augmented):\n",
        "  plt.figure(figsize=(10, 10))\n",
        "  plt.subplot(1, 2, 1)\n",
        "  plt.title('Original Image')\n",
        "  plt.imshow(original)\n",
        "\n",
        "  plt.subplot(1, 2, 2)\n",
        "  plt.title('Augmented Image')\n",
        "  plt.imshow(augmented)"
      ],
      "execution_count": null,
      "outputs": []
    },
    {
      "cell_type": "code",
      "metadata": {
        "id": "KDkenn7PJnYK",
        "colab_type": "code",
        "colab": {}
      },
      "source": [
        "#flipping along axis 1 - (column)\n",
        "flipped = torch.flip(torch.from_numpy(cat_array), [1])"
      ],
      "execution_count": null,
      "outputs": []
    },
    {
      "cell_type": "code",
      "metadata": {
        "id": "ky4cnHwMKOBw",
        "colab_type": "code",
        "colab": {}
      },
      "source": [
        "visualize(cat_array, flipped.numpy())"
      ],
      "execution_count": null,
      "outputs": []
    },
    {
      "cell_type": "markdown",
      "metadata": {
        "id": "pk2zn1P6LqvW",
        "colab_type": "text"
      },
      "source": [
        "## Operations on Image"
      ]
    },
    {
      "cell_type": "code",
      "metadata": {
        "id": "0Kz6ZblAK7Ye",
        "colab_type": "code",
        "colab": {}
      },
      "source": [
        "from torchvision.transforms import transforms"
      ],
      "execution_count": null,
      "outputs": []
    },
    {
      "cell_type": "code",
      "metadata": {
        "id": "sl45j0cpMTw9",
        "colab_type": "code",
        "colab": {}
      },
      "source": [
        "#grayscaling the image\n",
        "grayscale = transforms.Grayscale(1)\n",
        "cat_gray = np.array(grayscale(cat_img))\n",
        "\n",
        "visualize(cat_array, cat_gray)\n",
        "plt.colorbar()"
      ],
      "execution_count": null,
      "outputs": []
    },
    {
      "cell_type": "code",
      "metadata": {
        "id": "vEgbom42MhbM",
        "colab_type": "code",
        "colab": {}
      },
      "source": [
        "#saturating the image\n",
        "saturate = transforms.ColorJitter(saturation=3)\n",
        "\n",
        "cat_sat = np.array(saturate(cat_img))\n",
        "\n",
        "visualize(cat_array, cat_sat)"
      ],
      "execution_count": null,
      "outputs": []
    },
    {
      "cell_type": "code",
      "metadata": {
        "id": "R5XWdPLwOwcP",
        "colab_type": "code",
        "colab": {}
      },
      "source": [
        "#change image brightness\n",
        "brightness = transforms.ColorJitter(brightness=0.6)\n",
        "\n",
        "cat_b = np.array(brightness(cat_img))\n",
        "\n",
        "visualize(cat_array, cat_b)"
      ],
      "execution_count": null,
      "outputs": []
    },
    {
      "cell_type": "code",
      "metadata": {
        "id": "tSweKtQ3PFQT",
        "colab_type": "code",
        "colab": {}
      },
      "source": [
        "#rotate the image\n",
        "cat_r = torch.rot90(torch.from_numpy(cat_array))\n",
        "\n",
        "visualize(cat_array, cat_r.numpy())"
      ],
      "execution_count": null,
      "outputs": []
    },
    {
      "cell_type": "code",
      "metadata": {
        "id": "xiFwICPaP02a",
        "colab_type": "code",
        "colab": {}
      },
      "source": [
        "#crop the image\n",
        "crop = transforms.CenterCrop((110, 160))\n",
        "\n",
        "cat_crop = np.array(crop(cat_img))\n",
        "\n",
        "visualize(cat_array, cat_crop)"
      ],
      "execution_count": null,
      "outputs": []
    },
    {
      "cell_type": "markdown",
      "metadata": {
        "id": "X8E2ft5_TNa6",
        "colab_type": "text"
      },
      "source": [
        "## Training on an augmented data"
      ]
    },
    {
      "cell_type": "code",
      "metadata": {
        "id": "7MUTPJh1SnQJ",
        "colab_type": "code",
        "colab": {}
      },
      "source": [
        "from torchvision import datasets\n",
        "from torch.utils.data import DataLoader"
      ],
      "execution_count": null,
      "outputs": []
    },
    {
      "cell_type": "code",
      "metadata": {
        "id": "54qOyWKDWFNg",
        "colab_type": "code",
        "colab": {}
      },
      "source": [
        "#apply augmentations to the image\n",
        "transformation = transforms.Compose(\n",
        "    [transforms.RandomCrop((34, 34), pad_if_needed=True), \n",
        "     transforms.ColorJitter(brightness=0.5),\n",
        "     transforms.RandomCrop((28, 28)),\n",
        "     transforms.ToTensor()]\n",
        ")"
      ],
      "execution_count": null,
      "outputs": []
    },
    {
      "cell_type": "code",
      "metadata": {
        "id": "_6TF_ij4TiQN",
        "colab_type": "code",
        "colab": {}
      },
      "source": [
        "train_data = datasets.MNIST(root='./data', train=True, download=True, transform=transformation)\n",
        "test_data = datasets.MNIST(root='./data', train=False, download=True, transform=transforms.ToTensor())"
      ],
      "execution_count": null,
      "outputs": []
    },
    {
      "cell_type": "markdown",
      "metadata": {
        "id": "tilZuHQef6L7",
        "colab_type": "text"
      },
      "source": [
        "--> There will be no increase in train data\n",
        "\n",
        "--> Transformations are done on the fly at each iteration\n",
        "\n",
        "--> No increase in size of data at disk"
      ]
    },
    {
      "cell_type": "code",
      "metadata": {
        "id": "VuIPim-LVMXT",
        "colab_type": "code",
        "colab": {}
      },
      "source": [
        "len(train_data), len(test_data)"
      ],
      "execution_count": null,
      "outputs": []
    },
    {
      "cell_type": "code",
      "metadata": {
        "id": "mYkjY4KdVwPJ",
        "colab_type": "code",
        "colab": {}
      },
      "source": [
        "type(train_data)"
      ],
      "execution_count": null,
      "outputs": []
    },
    {
      "cell_type": "code",
      "metadata": {
        "id": "Gk3BS4JZcl-6",
        "colab_type": "code",
        "colab": {}
      },
      "source": [
        "bs = 64\n",
        "\n",
        "train_loader = DataLoader(train_data, batch_size=bs, shuffle=True)\n",
        "test_loader = DataLoader(test_data, batch_size=bs)"
      ],
      "execution_count": null,
      "outputs": []
    },
    {
      "cell_type": "markdown",
      "metadata": {
        "id": "Rx-ZxqopgxN4",
        "colab_type": "text"
      },
      "source": [
        "# Create model"
      ]
    },
    {
      "cell_type": "code",
      "metadata": {
        "id": "hlb2WcX7cxX0",
        "colab_type": "code",
        "colab": {}
      },
      "source": [
        "from torch import nn\n",
        "from torch import optim\n",
        "from pytorch_lightning.metrics.functional import accuracy\n",
        "\n",
        "from tqdm.notebook import tqdm"
      ],
      "execution_count": null,
      "outputs": []
    },
    {
      "cell_type": "code",
      "metadata": {
        "id": "M6MTUDYU8yJw",
        "colab_type": "code",
        "colab": {}
      },
      "source": [
        "device = 'cuda:0' if torch.cuda.is_available() else 'cpu'"
      ],
      "execution_count": null,
      "outputs": []
    },
    {
      "cell_type": "code",
      "metadata": {
        "id": "N8DzBtQkg4Dt",
        "colab_type": "code",
        "colab": {}
      },
      "source": [
        "class Model(nn.Module):\n",
        "  def __init__(self):\n",
        "    super().__init__()\n",
        "    self.l1 = nn.Sequential(\n",
        "        nn.Linear(784, 4096),\n",
        "        nn.ReLU(),\n",
        "        nn.Linear(4096, 4096),\n",
        "        nn.ReLU(),\n",
        "        nn.Linear(4096, 10)\n",
        "    )\n",
        "\n",
        "  def forward(self, inputs):\n",
        "    inputs = inputs.view(inputs.size(0), -1)\n",
        "    out = self.l1(inputs)\n",
        "\n",
        "    return out"
      ],
      "execution_count": null,
      "outputs": []
    },
    {
      "cell_type": "code",
      "metadata": {
        "id": "_0ei0ZBNlFtV",
        "colab_type": "code",
        "colab": {}
      },
      "source": [
        "model = Model()\n",
        "model = model.to(device)"
      ],
      "execution_count": null,
      "outputs": []
    },
    {
      "cell_type": "code",
      "metadata": {
        "id": "BGShUPFnlj2p",
        "colab_type": "code",
        "colab": {}
      },
      "source": [
        "opt = optim.Adam(model.parameters(), lr=0.003)\n",
        "criterion = nn.CrossEntropyLoss()"
      ],
      "execution_count": null,
      "outputs": []
    },
    {
      "cell_type": "code",
      "metadata": {
        "id": "aQQXHz3wn5Jb",
        "colab_type": "code",
        "colab": {}
      },
      "source": [
        "def evaluation(dataloader):\n",
        "  for images, labels in dataloader:\n",
        "    images, labels = images.to(device), labels.to(device)\n",
        "    output = model(images)\n",
        "    _, pred = torch.max(output.data, 1)\n",
        "\n",
        "  return accuracy(pred, labels)"
      ],
      "execution_count": null,
      "outputs": []
    },
    {
      "cell_type": "code",
      "metadata": {
        "id": "4yowmuSLmMlY",
        "colab_type": "code",
        "colab": {}
      },
      "source": [
        "epochs=10\n",
        "acc_hist = []\n",
        "val_acc_hist = []\n",
        "\n",
        "for epoch in range(epochs):\n",
        "  for i, (images, labels) in tqdm(enumerate(train_loader), total=len(train_loader)):\n",
        "    images, labels = images.to(device), labels.to(device) \n",
        "    opt.zero_grad()\n",
        "\n",
        "    output = model(images)\n",
        "    loss = criterion(output, labels)\n",
        "\n",
        "    loss.backward()\n",
        "    opt.step()\n",
        "    _, pred = torch.max(output.data, 1)\n",
        "\n",
        "  acc = accuracy(pred, labels)\n",
        "  val_acc = evaluation(test_loader)\n",
        "\n",
        "  acc_hist.append(acc.item())\n",
        "  val_acc_hist.append(val_acc.item())\n",
        "\n",
        "  print(\"Epoch: %d/%d\\tloss: %0.2f\\tacc: %0.2f\\tval_acc: %0.2f\"%(epoch+1, epochs, loss.item(), acc, val_acc))\n"
      ],
      "execution_count": null,
      "outputs": []
    },
    {
      "cell_type": "markdown",
      "metadata": {
        "id": "zhfikAAP0p-z",
        "colab_type": "text"
      },
      "source": [
        "# Plot the accuracy"
      ]
    },
    {
      "cell_type": "code",
      "metadata": {
        "id": "robzighzCl_S",
        "colab_type": "code",
        "colab": {}
      },
      "source": [
        "plt.figure(figsize=(15, 5))\n",
        "plt.subplot(1, 2, 1)\n",
        "plt.plot(acc_hist, 'b--')\n",
        "plt.xlabel('Epochs')\n",
        "plt.ylabel('train_acc')\n",
        "\n",
        "plt.subplot(1, 2, 2)\n",
        "plt.plot(val_acc_hist, 'b--')\n",
        "plt.ylabel('val_acc')\n",
        "plt.xlabel('Epochs')"
      ],
      "execution_count": null,
      "outputs": []
    },
    {
      "cell_type": "code",
      "metadata": {
        "id": "BSkJ2Aylu0QY",
        "colab_type": "code",
        "colab": {}
      },
      "source": [
        ""
      ],
      "execution_count": null,
      "outputs": []
    }
  ]
}